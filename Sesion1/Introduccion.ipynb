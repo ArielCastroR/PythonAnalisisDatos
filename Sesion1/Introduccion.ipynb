{
 "cells": [
  {
   "cell_type": "code",
   "execution_count": 7,
   "metadata": {},
   "outputs": [
    {
     "name": "stdout",
     "output_type": "stream",
     "text": [
      "hola Mundo\n"
     ]
    }
   ],
   "source": [
    "print (\"hola Mundo\")"
   ]
  },
  {
   "cell_type": "markdown",
   "metadata": {},
   "source": [
    "Identacion"
   ]
  },
  {
   "cell_type": "code",
   "execution_count": 10,
   "metadata": {},
   "outputs": [
    {
     "name": "stdout",
     "output_type": "stream",
     "text": [
      "TRUE\n"
     ]
    }
   ],
   "source": [
    "variable = 5\n",
    "if variable==5 :\n",
    "    print (\"TRUE\")\n",
    "else:\n",
    "    print (\"FALSE\")    "
   ]
  },
  {
   "cell_type": "code",
   "execution_count": 16,
   "metadata": {},
   "outputs": [
    {
     "name": "stdout",
     "output_type": "stream",
     "text": [
      "TRUE\n"
     ]
    }
   ],
   "source": [
    "variable = 5\n",
    "if variable==5 :\n",
    "    print (\"TRUE\")\n",
    "else:\n",
    "    print (\"FALSE\")    "
   ]
  },
  {
   "cell_type": "markdown",
   "metadata": {},
   "source": [
    "#COMENTARIO"
   ]
  },
  {
   "cell_type": "code",
   "execution_count": 23,
   "metadata": {},
   "outputs": [
    {
     "name": "stdout",
     "output_type": "stream",
     "text": [
      "TRUE\n",
      "1\n",
      "fin\n"
     ]
    }
   ],
   "source": [
    "variable = 5\n",
    "#COMENTAR CODIGO\n",
    "\n",
    "\"\"\"Comentario para varias \n",
    "lineas \"\"\"\n",
    "\n",
    "if variable==5 :\n",
    "    print (\"TRUE\")    \n",
    "    print (1)    \n",
    "    print (\"fin\")\n",
    "else:\n",
    "    print (\"FALSE\")  "
   ]
  },
  {
   "cell_type": "markdown",
   "metadata": {},
   "source": [
    "VARIABLES Y TIPO DE DATOS"
   ]
  },
  {
   "cell_type": "code",
   "execution_count": 36,
   "metadata": {},
   "outputs": [
    {
     "name": "stdout",
     "output_type": "stream",
     "text": [
      "Ariel Castro\n",
      "30\n",
      "1.7\n",
      "True\n"
     ]
    }
   ],
   "source": [
    "nombre = 'Ariel Castro'# variable de tipo string\n",
    "edad = 30              # varible de tipo entero\n",
    "altura = 1.70          # variable de tipo Float \n",
    "es_estudiante = True    # variable de tipo bool\n",
    "print (nombre)\n",
    "print (edad)\n",
    "print (altura)\n",
    "print (es_estudiante)"
   ]
  },
  {
   "cell_type": "code",
   "execution_count": 39,
   "metadata": {},
   "outputs": [
    {
     "name": "stdout",
     "output_type": "stream",
     "text": [
      "<class 'str'>\n",
      "<class 'int'>\n",
      "<class 'float'>\n",
      "<class 'bool'>\n"
     ]
    }
   ],
   "source": [
    "nombre = 'Ariel Castro'# variable de tipo string\n",
    "edad = 30              # varible de tipo entero\n",
    "altura = 1.70          # variable de tipo Float \n",
    "es_estudiante = True    # variable de tipo bool\n",
    "print (type(nombre))\n",
    "print (type(edad))\n",
    "print (type(altura))\n",
    "print (type(es_estudiante))"
   ]
  },
  {
   "cell_type": "markdown",
   "metadata": {},
   "source": [
    "TIPO DE DATOS -- LISTAS"
   ]
  },
  {
   "cell_type": "code",
   "execution_count": 41,
   "metadata": {},
   "outputs": [
    {
     "name": "stdout",
     "output_type": "stream",
     "text": [
      "[1, 2, ['hello', 44.4], ['x']]\n"
     ]
    }
   ],
   "source": [
    "# lista vacia \n",
    "lista1 = []\n",
    "\n",
    "#lista de enteros \n",
    "lista2 = [1,2,3,4,5]\n",
    "\n",
    "#Lista de string o cadena\n",
    "lista3 = [\"apple\",\"hello\",\"oranges\"]\n",
    "\n",
    "#Lista mixta \n",
    "lista4 = [2,3,\"hello\",44.4]\n",
    "\n",
    "#lista Anidada\n",
    "lista5 = [1,2,[\"hello\",44.4],[\"x\"]]\n",
    "\n"
   ]
  },
  {
   "cell_type": "code",
   "execution_count": 42,
   "metadata": {},
   "outputs": [
    {
     "name": "stdout",
     "output_type": "stream",
     "text": [
      "[1, 2, ['hello', 44.4], ['x']]\n"
     ]
    }
   ],
   "source": [
    "print (lista5)"
   ]
  },
  {
   "cell_type": "code",
   "execution_count": 45,
   "metadata": {},
   "outputs": [],
   "source": [
    "# Accediendo a elementos de una lista\n",
    "\"\"\"\n",
    "Referencia de posiciones \n",
    "a-->0\n",
    "b-->1\n",
    "c-->2\n",
    "d-->3\n",
    "e-->4\n",
    "f-->5\n",
    "\"\"\"\n",
    "lista = [\"a\",\"b\",\"c\",\"d\",\"e\",\"f\"]\n"
   ]
  },
  {
   "cell_type": "code",
   "execution_count": 55,
   "metadata": {},
   "outputs": [
    {
     "name": "stdout",
     "output_type": "stream",
     "text": [
      "d\n",
      "c\n"
     ]
    }
   ],
   "source": [
    "## impriomiendo el valor de la tercera posicion\n",
    "print (lista[3])\n",
    "print (lista[2])\n"
   ]
  },
  {
   "cell_type": "code",
   "execution_count": 58,
   "metadata": {},
   "outputs": [
    {
     "name": "stdout",
     "output_type": "stream",
     "text": [
      "hello\n"
     ]
    }
   ],
   "source": [
    "lista5 = [1,2,[\"hello\",44.4],[\"x\"]]\n",
    "print (lista5[2][0])"
   ]
  },
  {
   "cell_type": "code",
   "execution_count": 60,
   "metadata": {},
   "outputs": [
    {
     "name": "stdout",
     "output_type": "stream",
     "text": [
      "['c', 'd', 'e']\n"
     ]
    }
   ],
   "source": [
    "lista = [\"a\",\"b\",\"c\",\"d\",\"e\",\"f\"]\n",
    "#lista[2:4] ->indice  2 hasta el indice 3\n",
    "#lista[2:5] ->indice  2 hasta el indice 4\n",
    "print (lista[2:5])"
   ]
  },
  {
   "cell_type": "markdown",
   "metadata": {},
   "source": [
    "TIPO DE DATOS - TUPLAS"
   ]
  },
  {
   "cell_type": "code",
   "execution_count": 65,
   "metadata": {},
   "outputs": [
    {
     "name": "stdout",
     "output_type": "stream",
     "text": [
      "()\n",
      "(1, 2, 3)\n",
      "(1, 'hello', 4.4)\n",
      "('apple', 1, [1, 2, 3], (4, 9, 6))\n"
     ]
    }
   ],
   "source": [
    "# TUPLA VACIA\n",
    "tupla1 = ()\n",
    "print (tupla1)\n",
    "\n",
    "# Tupla entero\n",
    "tupla2 = (1,2,3)\n",
    "print (tupla2)\n",
    "\n",
    "#tupla Mixta\n",
    "tupla3 = (1,\"hello\",4.4)\n",
    "print (tupla3)\n",
    "\n",
    "#Tupla Anidadas\n",
    "tupla4 = (\"apple\",1, [1,2,3], (4,9,6) )\n",
    "print (tupla4)"
   ]
  },
  {
   "cell_type": "code",
   "execution_count": 69,
   "metadata": {},
   "outputs": [
    {
     "name": "stdout",
     "output_type": "stream",
     "text": [
      "<class 'str'>\n"
     ]
    }
   ],
   "source": [
    "tupla=(\"hello\")\n",
    "print(type(tupla))"
   ]
  },
  {
   "cell_type": "code",
   "execution_count": 73,
   "metadata": {},
   "outputs": [
    {
     "name": "stdout",
     "output_type": "stream",
     "text": [
      "<class 'tuple'>\n"
     ]
    }
   ],
   "source": [
    "#tupla como elemento\n",
    "tupla=(\"hello\",)\n",
    "print(type(tupla))"
   ]
  },
  {
   "cell_type": "code",
   "execution_count": 74,
   "metadata": {},
   "outputs": [
    {
     "name": "stdout",
     "output_type": "stream",
     "text": [
      "<class 'tuple'>\n"
     ]
    }
   ],
   "source": [
    "tupla = \"a\",\"b\",\"c\",\"d\",\"e\",\"f\"\n",
    "print(type(tupla))"
   ]
  },
  {
   "cell_type": "code",
   "execution_count": 80,
   "metadata": {},
   "outputs": [
    {
     "name": "stdout",
     "output_type": "stream",
     "text": [
      "a\n",
      "c\n",
      "9\n",
      "('b', 'c', 'd')\n"
     ]
    }
   ],
   "source": [
    "print(tupla[0])\n",
    "print(tupla[2])\n",
    "print(tupla4[3][1])\n",
    "print(tupla[1:4])"
   ]
  },
  {
   "cell_type": "markdown",
   "metadata": {},
   "source": [
    "TIPOS DE DATOS -- DICCIONARIO"
   ]
  },
  {
   "cell_type": "code",
   "execution_count": 83,
   "metadata": {},
   "outputs": [
    {
     "name": "stdout",
     "output_type": "stream",
     "text": [
      "{'nombre': 'Jhon', 1: [1, 2, 3, 4]}\n"
     ]
    }
   ],
   "source": [
    "#DICCIONARIO VACIO\n",
    "diccionario1={}\n",
    "\n",
    "#DICCIONARIO CON CLAVEZ ENTERAS\n",
    "diccionario2={1:\"Juan\",2:'Perez'}\n",
    "\n",
    "#DICCIONARIO CON CLAVES MIXTAS\n",
    "diccionario3 = {\"nombre\":\"Jhon\",1:[1,2,3,4]}\n",
    "\n",
    "print (diccionario3)"
   ]
  },
  {
   "cell_type": "code",
   "execution_count": 84,
   "metadata": {},
   "outputs": [
    {
     "name": "stdout",
     "output_type": "stream",
     "text": [
      "Jack\n"
     ]
    }
   ],
   "source": [
    "diccionario= {\"nombre\":\"Jack\",\"edad\":24, \"pais\":\"Peru\"}\n",
    "print (diccionario['nombre'])"
   ]
  },
  {
   "cell_type": "code",
   "execution_count": 88,
   "metadata": {},
   "outputs": [
    {
     "name": "stdout",
     "output_type": "stream",
     "text": [
      "None\n"
     ]
    }
   ],
   "source": [
    "# en caso que no exista la llave podemos usar get para que no salga error\n",
    "print (diccionario.get('direccion'))"
   ]
  },
  {
   "cell_type": "code",
   "execution_count": 91,
   "metadata": {},
   "outputs": [],
   "source": [
    "diccionario['direccion']=\"Calle B\""
   ]
  },
  {
   "cell_type": "code",
   "execution_count": 92,
   "metadata": {},
   "outputs": [
    {
     "name": "stdout",
     "output_type": "stream",
     "text": [
      "Calle B\n"
     ]
    }
   ],
   "source": [
    "print (diccionario.get('direccion'))"
   ]
  },
  {
   "cell_type": "code",
   "execution_count": 95,
   "metadata": {},
   "outputs": [
    {
     "name": "stdout",
     "output_type": "stream",
     "text": [
      "a\n",
      "b\n",
      "c\n",
      "d\n",
      "e\n",
      "f\n"
     ]
    }
   ],
   "source": [
    "#usar for para imprimir lista\n",
    "for item in lista:\n",
    "    print(item)"
   ]
  },
  {
   "cell_type": "code",
   "execution_count": 96,
   "metadata": {},
   "outputs": [
    {
     "name": "stdout",
     "output_type": "stream",
     "text": [
      "a\n",
      "b\n",
      "c\n",
      "d\n",
      "e\n",
      "f\n"
     ]
    }
   ],
   "source": [
    "#imprimimos con iteracion  tupla\n",
    "for item in tupla:\n",
    "    print(item)"
   ]
  },
  {
   "cell_type": "code",
   "execution_count": 98,
   "metadata": {},
   "outputs": [
    {
     "name": "stdout",
     "output_type": "stream",
     "text": [
      "nombre Jack\n",
      "edad 24\n",
      "pais Peru\n",
      "direccion Calle B\n"
     ]
    }
   ],
   "source": [
    "for clave,valor in diccionario.items():\n",
    "    print (clave,valor)\n"
   ]
  },
  {
   "cell_type": "code",
   "execution_count": 99,
   "metadata": {},
   "outputs": [
    {
     "name": "stdout",
     "output_type": "stream",
     "text": [
      "Jack\n",
      "24\n",
      "Peru\n",
      "Calle B\n"
     ]
    }
   ],
   "source": [
    "for clave in diccionario.keys():\n",
    "    print (diccionario[clave])"
   ]
  },
  {
   "cell_type": "markdown",
   "metadata": {},
   "source": [
    "CONTROL DE FLUJO"
   ]
  },
  {
   "cell_type": "code",
   "execution_count": 100,
   "metadata": {},
   "outputs": [
    {
     "name": "stdout",
     "output_type": "stream",
     "text": [
      "El numero es positivo\n",
      "Siempre se ejecuta\n"
     ]
    }
   ],
   "source": [
    "#CONTROL DE FLUJO CONDICIONAL\n",
    "numero=3\n",
    "if numero>0:\n",
    "    print(\"El numero es positivo\")\n",
    "print (\"Siempre se ejecuta\")"
   ]
  },
  {
   "cell_type": "code",
   "execution_count": 106,
   "metadata": {},
   "outputs": [
    {
     "name": "stdout",
     "output_type": "stream",
     "text": [
      "el numero es positivo\n",
      "el numero es mayor a 5\n",
      "Siempre se ejecuta\n"
     ]
    }
   ],
   "source": [
    "## if ...else...\n",
    "numero=7\n",
    "if numero>0:\n",
    "    print(\"el numero es positivo\")\n",
    "    if numero <5:\n",
    "        print(\"el numero el menor a 5\")\n",
    "    else:\n",
    "        print(\"el numero es mayor a 5\")    \n",
    "else:\n",
    "    print(\"el numero es negativo\")    \n",
    "print (\"Siempre se ejecuta\")    "
   ]
  },
  {
   "cell_type": "code",
   "execution_count": 108,
   "metadata": {},
   "outputs": [
    {
     "name": "stdout",
     "output_type": "stream",
     "text": [
      "el elemento de la lista es  a\n",
      "el elemento de la lista es  b\n",
      "el elemento de la lista es  c\n",
      "el elemento de la lista es  d\n",
      "el elemento de la lista es  e\n",
      "el elemento de la lista es  f\n"
     ]
    }
   ],
   "source": [
    "# para concatenar\n",
    "for item in lista:\n",
    "    print(\"el elemento de la lista es \", item) \n",
    "    \n",
    " "
   ]
  },
  {
   "cell_type": "code",
   "execution_count": 109,
   "metadata": {},
   "outputs": [
    {
     "name": "stdout",
     "output_type": "stream",
     "text": [
      "el elemento de la lista es a\n",
      "el elemento de la lista es b\n",
      "el elemento de la lista es c\n",
      "el elemento de la lista es d\n",
      "el elemento de la lista es e\n",
      "el elemento de la lista es f\n"
     ]
    }
   ],
   "source": [
    "# para concatenar\n",
    "for item in lista:\n",
    "    print(\"el elemento de la lista es \"+ item) "
   ]
  },
  {
   "cell_type": "code",
   "execution_count": 111,
   "metadata": {},
   "outputs": [
    {
     "name": "stdout",
     "output_type": "stream",
     "text": [
      "el elemento de la lista es a\n",
      "el elemento de la lista es b\n",
      "el elemento de la lista es c\n",
      "el elemento de la lista es d\n",
      "el elemento de la lista es e\n",
      "el elemento de la lista es f\n"
     ]
    }
   ],
   "source": [
    "# bucle para concatenar conf string  \n",
    "for item in lista:\n",
    "    print(f\"el elemento de la lista es {item}\") "
   ]
  },
  {
   "cell_type": "code",
   "execution_count": 115,
   "metadata": {},
   "outputs": [
    {
     "name": "stdout",
     "output_type": "stream",
     "text": [
      "la suma es 55\n"
     ]
    }
   ],
   "source": [
    "#while\n",
    "n=10\n",
    "sum=0\n",
    "i=1\n",
    "\n",
    "while i<=n:\n",
    "    sum=sum+i\n",
    "    i=i+1\n",
    "    \n",
    "print(f\"la suma es {sum}\")    "
   ]
  },
  {
   "cell_type": "code",
   "execution_count": 116,
   "metadata": {},
   "outputs": [
    {
     "name": "stdout",
     "output_type": "stream",
     "text": [
      "error\n"
     ]
    }
   ],
   "source": [
    "#control de flujo de excepcion \n",
    "try:\n",
    "    print(234/0)\n",
    "except:\n",
    "    print(\"error\")\n"
   ]
  },
  {
   "cell_type": "code",
   "execution_count": 119,
   "metadata": {},
   "outputs": [
    {
     "name": "stdout",
     "output_type": "stream",
     "text": [
      "division by zero\n",
      "error\n"
     ]
    }
   ],
   "source": [
    "#control de flujo de excepcion  error por sistema\n",
    "try:\n",
    "    print(234/0)\n",
    "except Exception as e:\n",
    "    print(e)\n",
    "    print(\"error\")\n"
   ]
  },
  {
   "cell_type": "markdown",
   "metadata": {},
   "source": [
    "FUNCIONES\n"
   ]
  },
  {
   "cell_type": "code",
   "execution_count": 120,
   "metadata": {},
   "outputs": [
    {
     "name": "stdout",
     "output_type": "stream",
     "text": [
      "6\n"
     ]
    }
   ],
   "source": [
    "def funcion1(x):\n",
    "    return 2*x\n",
    "\n",
    "y=funcion1(3)\n",
    "print(y)\n",
    "  "
   ]
  },
  {
   "cell_type": "code",
   "execution_count": null,
   "metadata": {},
   "outputs": [],
   "source": [
    "def clean_data(dataset):\n",
    "    df=dataset.query(\"colum1 !=null\")\n",
    "    df=df.select['columna1','columna2','columna3']\n",
    "    return df"
   ]
  }
 ],
 "metadata": {
  "kernelspec": {
   "display_name": "Python 3 (ipykernel)",
   "language": "python",
   "name": "python3"
  },
  "language_info": {
   "codemirror_mode": {
    "name": "ipython",
    "version": 3
   },
   "file_extension": ".py",
   "mimetype": "text/x-python",
   "name": "python",
   "nbconvert_exporter": "python",
   "pygments_lexer": "ipython3",
   "version": "3.10.13"
  }
 },
 "nbformat": 4,
 "nbformat_minor": 2
}
